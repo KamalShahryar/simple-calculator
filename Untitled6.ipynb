{
  "nbformat": 4,
  "nbformat_minor": 0,
  "metadata": {
    "colab": {
      "provenance": [],
      "authorship_tag": "ABX9TyNrchSMlozxXZU5YlH0QLju",
      "include_colab_link": true
    },
    "kernelspec": {
      "name": "python3",
      "display_name": "Python 3"
    },
    "language_info": {
      "name": "python"
    }
  },
  "cells": [
    {
      "cell_type": "markdown",
      "metadata": {
        "id": "view-in-github",
        "colab_type": "text"
      },
      "source": [
        "<a href=\"https://colab.research.google.com/github/KamalShahryar/simple-calculator/blob/main/Untitled6.ipynb\" target=\"_parent\"><img src=\"https://colab.research.google.com/assets/colab-badge.svg\" alt=\"Open In Colab\"/></a>"
      ]
    },
    {
      "cell_type": "code",
      "execution_count": 1,
      "metadata": {
        "colab": {
          "base_uri": "https://localhost:8080/"
        },
        "id": "PoTXO5Vcx0Qs",
        "outputId": "cd046811-c5f2-4528-f1cf-43d47c756f72"
      },
      "outputs": [
        {
          "output_type": "stream",
          "name": "stdout",
          "text": [
            "Select operation:\n",
            "1. Add\n",
            "2. Subtract\n",
            "3. Multiply\n",
            "4. Divide\n",
            "Enter choice (1/2/3/4): 3\n",
            "Enter first number: 52\n",
            "Enter second number: 48\n",
            "The result is: 2496.0\n"
          ]
        }
      ],
      "source": [
        "# Simple Calculator in Python\n",
        "\n",
        "def add(x, y):\n",
        "    return x + y\n",
        "\n",
        "def subtract(x, y):\n",
        "    return x - y\n",
        "\n",
        "def multiply(x, y):\n",
        "    return x * y\n",
        "\n",
        "def divide(x, y):\n",
        "    if y != 0:\n",
        "        return x / y\n",
        "    else:\n",
        "        return \"Error! Division by zero.\"\n",
        "\n",
        "print(\"Select operation:\")\n",
        "print(\"1. Add\")\n",
        "print(\"2. Subtract\")\n",
        "print(\"3. Multiply\")\n",
        "print(\"4. Divide\")\n",
        "\n",
        "# Take input from the user\n",
        "choice = input(\"Enter choice (1/2/3/4): \")\n",
        "\n",
        "if choice in ('1', '2', '3', '4'):\n",
        "    try:\n",
        "        num1 = float(input(\"Enter first number: \"))\n",
        "        num2 = float(input(\"Enter second number: \"))\n",
        "\n",
        "        if choice == '1':\n",
        "            print(f\"The result is: {add(num1, num2)}\")\n",
        "\n",
        "        elif choice == '2':\n",
        "            print(f\"The result is: {subtract(num1, num2)}\")\n",
        "\n",
        "        elif choice == '3':\n",
        "            print(f\"The result is: {multiply(num1, num2)}\")\n",
        "\n",
        "        elif choice == '4':\n",
        "            print(f\"The result is: {divide(num1, num2)}\")\n",
        "\n",
        "    except ValueError:\n",
        "        print(\"Invalid input! Please enter numeric values.\")\n",
        "\n",
        "else:\n",
        "    print(\"Invalid choice!\")\n"
      ]
    }
  ]
}